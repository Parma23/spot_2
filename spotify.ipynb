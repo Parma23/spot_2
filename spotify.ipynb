{
 "cells": [
  {
   "cell_type": "code",
   "execution_count": 6,
   "metadata": {},
   "outputs": [],
   "source": [
    "### weekend assignment\n",
    "\n",
    "\n",
    "import requests\n",
    "import pandas as pd\n",
    "import plotly_express as px\n",
    "import json\n",
    "import base64"
   ]
  },
  {
   "cell_type": "code",
   "execution_count": 3,
   "metadata": {},
   "outputs": [],
   "source": [
    "client_id = 'ec5285df8c9744a487148a63863c45f7'\n",
    "client_secret = '7b2390e956df4edda44f9d00cd56f764' \n",
    "redirect = 'http://localhost:3000.'\n",
    "\n",
    "client_creds = f'{client_id}:{client_secret}'\n",
    "client_creds.encode()\n",
    "client_creds_b64 = base64.b64encode(client_creds.encode())\n",
    "\n",
    "token_url = \"https://accounts.spotify.com/api/token\"\n",
    "method = \"POST\"\n",
    "token_data = {\n",
    "    \"grant_type\": \"client_credentials\"\n",
    "}\n",
    "token_headers = {\n",
    "    \"Authorization\": f\"Basic {client_creds_b64.decode()}\"\n",
    "}"
   ]
  },
  {
   "cell_type": "code",
   "execution_count": 4,
   "metadata": {},
   "outputs": [
    {
     "name": "stdout",
     "output_type": "stream",
     "text": [
      "{'access_token': 'BQBPwp14IjLUtW2iBumlCIKSiu7i52bs80U8CngFWzjXdHW1klx2skIVFtRn4cEEtd9yJzakbUQj3r3eU0exElYWQ9H76wETevsf47exFWQ36tM_P2c', 'token_type': 'Bearer', 'expires_in': 3600}\n"
     ]
    }
   ],
   "source": [
    "r = requests.post(token_url, data=token_data, headers=token_headers)\n",
    "print(r.json())\n",
    "def get_auth_header(token):\n",
    "    return {\"Authorization\": \"Bearer \" + token }"
   ]
  },
  {
   "cell_type": "code",
   "execution_count": null,
   "metadata": {},
   "outputs": [],
   "source": [
    "import spotipy \n",
    "from spotipy.oauth2 import SpotifyOAuth\n",
    "from spotipy import util\n",
    "\n",
    "\n",
    "client_id = 'ec5285df8c9744a487148a63863c45f7'\n",
    "client_secret = '7b2390e956df4edda44f9d00cd56f764'\n",
    "redirect_uri = 'http://localhost:8888/callback'\n",
    "\n",
    "auth_manager = SpotifyOAuth(client_id=client_id, client_secret=client_secret, redirect_uri=redirect_uri, scope=scope, username=username)\n",
    "sp = spotipy.Spotify(auth_manager=auth_manager)\n",
    "\n",
    "results = sp.current_user_saved_tracks()\n",
    "liked_song_names = []\n",
    "liked_artists = []\n",
    "danceability = []\n",
    "\n",
    "for item in results['items']:\n",
    "    track = item['track']\n",
    "    liked_song_names.append(track['name'])\n",
    "    liked_artists.append(track['artists'][0]['name'])\n",
    "    danceability.append(sp.audio_features(track['id'])[0]['danceability'])\n",
    "\n",
    "df_liked_songs = pd.DataFrame({'Track Name': liked_song_names, 'Artist': liked_artists, 'Danceability': danceability})\n",
    "\n",
    "liked_songs_uris = [item['track']['uri'] for item in results['items']]\n",
    "audio_features_list = []\n",
    "\n",
    "for uri in liked_songs_uris:\n",
    "    audio_features = sp.audio_features(uri)\n",
    "    audio_features_list.append(audio_features[0])\n",
    "\n",
    "df_audio_features = pd.DataFrame(audio_features_list)\n",
    "\n",
    "display(df_liked_songs)\n",
    "display(df_audio_features)"
   ]
  },
  {
   "cell_type": "code",
   "execution_count": 8,
   "metadata": {},
   "outputs": [],
   "source": [
    "client_id = 'ec5285df8c9744a487148a63863c45f7'\n",
    "client_secret = '7b2390e956df4edda44f9d00cd56f764' \n",
    "redirect = 'http://localhost/'\n",
    "\n",
    "client_creds = f'{client_id}:{client_secret}'\n",
    "client_creds.encode()\n",
    "client_creds_b64 = base64.b64encode(client_creds.encode())\n",
    "\n",
    "token_url = \"https://accounts.spotify.com/api/token\"\n",
    "method = \"POST\"\n",
    "token_data = {\n",
    "    \"grant_type\": \"client_credentials\"\n",
    "}\n",
    "token_headers = {\n",
    "    \"Authorization\": f\"Basic {client_creds_b64.decode()}\"\n",
    "}"
   ]
  },
  {
   "cell_type": "code",
   "execution_count": 9,
   "metadata": {},
   "outputs": [
    {
     "name": "stdout",
     "output_type": "stream",
     "text": [
      "{'access_token': 'BQA41GqGHggIRDy9pFZdiWJ4t2N0QO1csvKHgDumNwkAdyFLsL5irlg-0_B3Hg29y0P-5UQ0K1ZTdWkT1L_WNV3yWLkve0lAw4yEe5IH8T-Wvojatjk', 'token_type': 'Bearer', 'expires_in': 3600}\n"
     ]
    }
   ],
   "source": [
    "# requesting the token\n",
    "r = requests.post(token_url, data=token_data, headers=token_headers)\n",
    "print(r.json())\n",
    "def get_auth_header(token):\n",
    "    return {\"Authorization\": \"Bearer \" + token }"
   ]
  },
  {
   "cell_type": "code",
   "execution_count": 10,
   "metadata": {},
   "outputs": [
    {
     "ename": "NameError",
     "evalue": "name 'SpotifyOAuth' is not defined",
     "output_type": "error",
     "traceback": [
      "\u001b[1;31m---------------------------------------------------------------------------\u001b[0m",
      "\u001b[1;31mNameError\u001b[0m                                 Traceback (most recent call last)",
      "Cell \u001b[1;32mIn[10], line 7\u001b[0m\n\u001b[0;32m      4\u001b[0m client_secret \u001b[39m=\u001b[39m \u001b[39m'\u001b[39m\u001b[39m7b2390e956df4edda44f9d00cd56f764\u001b[39m\u001b[39m'\u001b[39m\n\u001b[0;32m      5\u001b[0m redirect_uri \u001b[39m=\u001b[39m \u001b[39m'\u001b[39m\u001b[39mhttp://localhost:8888/callback\u001b[39m\u001b[39m'\u001b[39m\n\u001b[1;32m----> 7\u001b[0m auth_manager \u001b[39m=\u001b[39m SpotifyOAuth(client_id\u001b[39m=\u001b[39mclient_id, client_secret\u001b[39m=\u001b[39mclient_secret, redirect_uri\u001b[39m=\u001b[39mredirect_uri, scope\u001b[39m=\u001b[39mscope, username\u001b[39m=\u001b[39musername)\n\u001b[0;32m      8\u001b[0m sp \u001b[39m=\u001b[39m spotipy\u001b[39m.\u001b[39mSpotify(auth_manager\u001b[39m=\u001b[39mauth_manager)\n\u001b[0;32m     10\u001b[0m results \u001b[39m=\u001b[39m sp\u001b[39m.\u001b[39mcurrent_user_saved_tracks()\n",
      "\u001b[1;31mNameError\u001b[0m: name 'SpotifyOAuth' is not defined"
     ]
    }
   ],
   "source": [
    "\n",
    "client_id = 'ec5285df8c9744a487148a63863c45f7'\n",
    "client_secret = '7b2390e956df4edda44f9d00cd56f764'\n",
    "redirect_uri = 'http://localhost:8888/callback'\n",
    "\n",
    "auth_manager = SpotifyOAuth(client_id=client_id, client_secret=client_secret, redirect_uri=redirect_uri, scope=scope, username=username)\n",
    "sp = spotipy.Spotify(auth_manager=auth_manager)\n",
    "\n",
    "results = sp.current_user_saved_tracks()\n",
    "liked_song_names = []\n",
    "liked_artists = []\n",
    "danceability = []\n",
    "\n",
    "for item in results['items']:\n",
    "    track = item['track']\n",
    "    liked_song_names.append(track['name'])\n",
    "    liked_artists.append(track['artists'][0]['name'])\n",
    "    danceability.append(sp.audio_features(track['id'])[0]['danceability'])\n",
    "\n",
    "df_liked_songs = pd.DataFrame({'Track Name': liked_song_names, 'Artist': liked_artists, 'Danceability': danceability})\n",
    "\n",
    "liked_songs_uris = [item['track']['uri'] for item in results['items']]\n",
    "audio_features_list = []\n",
    "\n",
    "for uri in liked_songs_uris:\n",
    "    audio_features = sp.audio_features(uri)\n",
    "    audio_features_list.append(audio_features[0])\n",
    "\n",
    "df_audio_features = pd.DataFrame(audio_features_list)\n",
    "\n",
    "display(df_liked_songs)\n",
    "display(df_audio_features)\n"
   ]
  }
 ],
 "metadata": {
  "kernelspec": {
   "display_name": "Python 3",
   "language": "python",
   "name": "python3"
  },
  "language_info": {
   "codemirror_mode": {
    "name": "ipython",
    "version": 3
   },
   "file_extension": ".py",
   "mimetype": "text/x-python",
   "name": "python",
   "nbconvert_exporter": "python",
   "pygments_lexer": "ipython3",
   "version": "3.11.3"
  },
  "orig_nbformat": 4
 },
 "nbformat": 4,
 "nbformat_minor": 2
}
